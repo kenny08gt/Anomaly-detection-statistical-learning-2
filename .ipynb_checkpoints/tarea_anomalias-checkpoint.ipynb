{
 "cells": [
  {
   "cell_type": "code",
   "execution_count": 1,
   "metadata": {},
   "outputs": [],
   "source": [
    "import numpy as np\n",
    "import scipy\n",
    "import math\n",
    "import matplotlib.pyplot as plt\n",
    "from scipy.stats import multivariate_normal\n",
    "from sklearn.metrics import f1_score"
   ]
  },
  {
   "cell_type": "code",
   "execution_count": 4,
   "metadata": {},
   "outputs": [
    {
     "name": "stdout",
     "output_type": "stream",
     "text": [
      "(25,)\n",
      "(25,)\n",
      "(25,)\n"
     ]
    }
   ],
   "source": [
    "estatura = np.array([1.77, 1.74, 1.72, 1.78, 1.65, 1.66, 1.64, 1.85, 1.85,1.75, 1.73, 1.79, 1.82, 1.65, 1.79, 1.72, 1.70, 1.57, 1.66, 1.75, 1.77, 0.25, 175.1, 0.15, 150])\n",
    "edad = np.array([26, 31, 24, np.nan, 32, np.nan, np.nan, 34, 26, 21, 23, np.nan, 24, 25, 25, 34, 26, 25, 26, 27, 32, 2.4, .25, 25, 15])\n",
    "validate = np.array([0,0,0,0,0,0,0,0,0,0,0,0,0,0,0,0,0,0,0,0,0, 1,1,1,1])\n",
    "print(estatura.shape)\n",
    "print(edad.shape)\n",
    "print(validate.shape)"
   ]
  },
  {
   "cell_type": "code",
   "execution_count": 5,
   "metadata": {},
   "outputs": [
    {
     "data": {
      "text/plain": [
       "array([26, 31, 24, 23, 32, 23, 23, 34, 26, 21, 23, 23, 24, 25, 25, 34, 26,\n",
       "       25, 26, 27, 32,  2,  0, 25, 15])"
      ]
     },
     "execution_count": 5,
     "metadata": {},
     "output_type": "execute_result"
    }
   ],
   "source": [
    "mean = int(np.nanmean(edad))\n",
    "edad = np.array([mean if np.isnan(x) else int(x) for x in edad])\n",
    "edad"
   ]
  },
  {
   "cell_type": "code",
   "execution_count": 8,
   "metadata": {},
   "outputs": [
    {
     "data": {
      "image/png": "[encoded data removed]",
      "text/plain": [
       "<Figure size 432x288 with 1 Axes>"
      ]
     },
     "metadata": {
      "needs_background": "light"
     },
     "output_type": "display_data"
    }
   ],
   "source": [
    "plt.plot(edad, estatura,'ro')\n",
    "plt.show()"
   ]
  },
  {
   "cell_type": "code",
   "execution_count": 7,
   "metadata": {},
   "outputs": [
    {
     "data": {
      "text/plain": [
       "array([[2.600e+01, 1.770e+00, 0.000e+00],\n",
       "       [3.100e+01, 1.740e+00, 0.000e+00],\n",
       "       [2.400e+01, 1.720e+00, 0.000e+00],\n",
       "       [2.300e+01, 1.780e+00, 0.000e+00],\n",
       "       [3.200e+01, 1.650e+00, 0.000e+00],\n",
       "       [2.300e+01, 1.660e+00, 0.000e+00],\n",
       "       [2.300e+01, 1.640e+00, 0.000e+00],\n",
       "       [3.400e+01, 1.850e+00, 0.000e+00],\n",
       "       [2.600e+01, 1.850e+00, 0.000e+00],\n",
       "       [2.100e+01, 1.750e+00, 0.000e+00],\n",
       "       [2.300e+01, 1.730e+00, 0.000e+00],\n",
       "       [2.300e+01, 1.790e+00, 0.000e+00],\n",
       "       [2.400e+01, 1.820e+00, 0.000e+00],\n",
       "       [2.500e+01, 1.650e+00, 0.000e+00],\n",
       "       [2.500e+01, 1.790e+00, 0.000e+00],\n",
       "       [3.400e+01, 1.720e+00, 0.000e+00],\n",
       "       [2.600e+01, 1.700e+00, 0.000e+00],\n",
       "       [2.500e+01, 1.570e+00, 0.000e+00],\n",
       "       [2.600e+01, 1.660e+00, 0.000e+00],\n",
       "       [2.700e+01, 1.750e+00, 0.000e+00],\n",
       "       [3.200e+01, 1.770e+00, 0.000e+00],\n",
       "       [2.000e+00, 2.500e-01, 1.000e+00],\n",
       "       [0.000e+00, 1.751e+02, 1.000e+00],\n",
       "       [2.500e+01, 1.500e-01, 1.000e+00],\n",
       "       [1.500e+01, 1.500e+02, 1.000e+00]])"
      ]
     },
     "execution_count": 7,
     "metadata": {},
     "output_type": "execute_result"
    }
   ],
   "source": [
    "X = np.array((edad, estatura, validate))\n",
    "X = X.T\n",
    "X"
   ]
  },
  {
   "cell_type": "code",
   "execution_count": 18,
   "metadata": {},
   "outputs": [],
   "source": [
    "from sklearn.model_selection import train_test_split\n",
    "x = np.array([edad, estatura])\n",
    "x = x.T\n",
    "y = np.array(validate)\n",
    "X_train, X_test, y_train, y_test = train_test_split(x, y, test_size=0.40, random_state=42)"
   ]
  },
  {
   "cell_type": "code",
   "execution_count": 27,
   "metadata": {},
   "outputs": [
    {
     "name": "stdout",
     "output_type": "stream",
     "text": [
      "[24.6        11.51333333]\n",
      "[[  64.68571429  -99.23428571]\n",
      " [ -99.23428571 1467.89678095]]\n"
     ]
    }
   ],
   "source": [
    "def mu(x):\n",
    "    mu = np.mean(x, axis=0)\n",
    "    return mu\n",
    "\n",
    "def sigma(x):\n",
    "    sigma = np.cov(x.T)\n",
    "    return sigma\n",
    "\n",
    "def pdf(x,mu,sigma):\n",
    "    p = multivariate_normal(mean=mu, cov=sigma).pdf(x)\n",
    "    return p\n",
    "\n",
    "mu = mu(X_train)\n",
    "sigma = sigma(X_train)\n",
    "print(mu)\n",
    "print(sigma)"
   ]
  },
  {
   "cell_type": "code",
   "execution_count": 28,
   "metadata": {},
   "outputs": [
    {
     "data": {
      "text/plain": [
       "array([5.20823122e-04, 5.21245434e-04, 2.73331186e-04, 5.05513824e-04,\n",
       "       3.56985754e-04, 3.56935321e-04, 5.27157556e-04, 4.72067740e-06,\n",
       "       5.25368817e-04, 7.93471621e-07, 2.73204490e-04, 5.05279252e-04,\n",
       "       5.27970892e-04, 5.14521513e-04, 5.04854879e-04])"
      ]
     },
     "execution_count": 28,
     "metadata": {},
     "output_type": "execute_result"
    }
   ],
   "source": [
    "pdf_ = pdf(X_train,mu,sigma)\n",
    "pdf_"
   ]
  },
  {
   "cell_type": "code",
   "execution_count": 40,
   "metadata": {},
   "outputs": [],
   "source": [
    "def epsilon(p, y):\n",
    "    mejor_f1 = 0\n",
    "    f_c = 0\n",
    "    ep = 0\n",
    "    steps = (max(p) - min(p)) / 1000;\n",
    "    epsilons = np.arange(min(p), max(p), steps)\n",
    "    for epsilon_actual in epsilons:\n",
    "        pred = (p < epsilon_actual).astype(int)\n",
    "        f_c = f1_score(y, pred, average='binary')\n",
    "        if f_c > mejor_f1:\n",
    "            mejor_f1 = f_c\n",
    "            ep = epsilon_actual\n",
    "\n",
    "    return  ep"
   ]
  },
  {
   "cell_type": "code",
   "execution_count": 41,
   "metadata": {},
   "outputs": [
    {
     "name": "stdout",
     "output_type": "stream",
     "text": [
      "[8] [[2.600e+01 1.850e+00]\n",
      " [2.600e+01 1.700e+00]\n",
      " [2.600e+01 1.770e+00]\n",
      " [2.500e+01 1.500e-01]\n",
      " [2.300e+01 1.790e+00]\n",
      " [2.100e+01 1.750e+00]\n",
      " [2.500e+01 1.650e+00]\n",
      " [3.100e+01 1.740e+00]\n",
      " [0.000e+00 1.751e+02]\n",
      " [2.300e+01 1.660e+00]]\n"
     ]
    }
   ],
   "source": [
    "pdf_test = pdf(X_test,mu,sigma)\n",
    "ep = epsilon(pdf_,y_train)\n",
    "anomalies = np.asarray(np.where(pdf_test < ep))[0]\n",
    "print(anomalies,X_test)"
   ]
  },
  {
   "cell_type": "code",
   "execution_count": 42,
   "metadata": {},
   "outputs": [
    {
     "data": {
      "text/plain": [
       "array([175.1])"
      ]
     },
     "execution_count": 42,
     "metadata": {},
     "output_type": "execute_result"
    }
   ],
   "source": [
    "plotX = X_test\n",
    "plotX[anomalies,1]\n"
   ]
  },
  {
   "cell_type": "code",
   "execution_count": 43,
   "metadata": {},
   "outputs": [
    {
     "data": {
      "text/plain": [
       "<matplotlib.collections.PathCollection at 0x1a185e7d68>"
      ]
     },
     "execution_count": 43,
     "metadata": {},
     "output_type": "execute_result"
    },
    {
     "data": {
      "image/png": "[encoded data removed]",
      "text/plain": [
       "<Figure size 432x288 with 1 Axes>"
      ]
     },
     "metadata": {
      "needs_background": "light"
     },
     "output_type": "display_data"
    }
   ],
   "source": [
    "\n",
    "plt.scatter(X_test[:,0],X_test[:,1], marker = \"x\")\n",
    "plt.scatter(plotX[anomalies,0], plotX[anomalies,1],  edgecolors = 'r')"
   ]
  },
  {
   "cell_type": "markdown",
   "metadata": {},
   "source": [
    "Referencias:\n",
    " * Presentaciones de clases\n",
    " * https://machineschool.wordpress.com/2015/09/23/anomaly-detection-algorithm-implementation-explained/\n",
    " * https://machinelearningmedium.com/2018/05/02/anomaly-detection/\n",
    " https://towardsdatascience.com/machine-learning-basics-part-4-anomaly-detection-recommender-systems-and-scaling-b8bbf0413aa9\n",
    " * https://towardsdatascience.com/wondering-how-to-build-an-anomaly-detection-model-87d28e50309"
   ]
  }
 ],
 "metadata": {
  "kernelspec": {
   "display_name": "Python 3",
   "language": "python",
   "name": "python3"
  },
  "language_info": {
   "codemirror_mode": {
    "name": "ipython",
    "version": 3
   },
   "file_extension": ".py",
   "mimetype": "text/x-python",
   "name": "python",
   "nbconvert_exporter": "python",
   "pygments_lexer": "ipython3",
   "version": "3.7.3"
  }
 },
 "nbformat": 4,
 "nbformat_minor": 2
}
